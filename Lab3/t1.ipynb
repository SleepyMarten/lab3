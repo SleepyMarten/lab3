{
 "cells": [
  {
   "cell_type": "code",
   "execution_count": 60,
   "metadata": {},
   "outputs": [],
   "source": [
    "#imports\n",
    "import pandas as pd\n",
    "import seaborn as sns\n",
    "import matplotlib.pyplot as plt\n",
    "import numpy as np\n",
    "from sklearn.model_selection import train_test_split\n",
    "from sklearn.neighbors import KNeighborsClassifier\n",
    "from sklearn.preprocessing import normalize"
   ]
  },
  {
   "cell_type": "code",
   "execution_count": 61,
   "metadata": {},
   "outputs": [],
   "source": [
    "#read data\n",
    "file_path = 'data\\seeds_dataset_ver2.txt'"
   ]
  },
  {
   "cell_type": "code",
   "execution_count": 62,
   "metadata": {},
   "outputs": [
    {
     "name": "stdout",
     "output_type": "stream",
     "text": [
      "0\n",
      "0\n"
     ]
    }
   ],
   "source": [
    "#making a dataframe from the txt file. \n",
    "#Original seeds data was wrong format so we had to fix it, which gives us seeds_ver2\n",
    "df = pd.read_table(file_path, delimiter=\"\\t\", names=('area', 'perimeter', 'compactness','length_kernel','width_kernel', 'asymmetry_coefficient','length_kernel_groove','wheat_varieties'))\n",
    "\n",
    "norm_df = normalize(df)\n",
    "#check for null and NaN values.\n",
    "print(df['wheat_varieties'].isnull().sum())\n",
    "print(df['wheat_varieties'].isna().sum())\n"
   ]
  },
  {
   "cell_type": "code",
   "execution_count": 63,
   "metadata": {},
   "outputs": [
    {
     "name": "stdout",
     "output_type": "stream",
     "text": [
      "             area   perimeter  compactness  length_kernel  width_kernel  \\\n",
      "count  210.000000  210.000000   210.000000     210.000000    210.000000   \n",
      "mean    14.847524   14.559286     0.870999       5.628533      3.258605   \n",
      "std      2.909699    1.305959     0.023629       0.443063      0.377714   \n",
      "min     10.590000   12.410000     0.808100       4.899000      2.630000   \n",
      "25%     12.270000   13.450000     0.856900       5.262250      2.944000   \n",
      "50%     14.355000   14.320000     0.873450       5.523500      3.237000   \n",
      "75%     17.305000   15.715000     0.887775       5.979750      3.561750   \n",
      "max     21.180000   17.250000     0.918300       6.675000      4.033000   \n",
      "\n",
      "       asymmetry_coefficient  length_kernel_groove  wheat_varieties  \n",
      "count             210.000000            210.000000       210.000000  \n",
      "mean                3.700201              5.408071         2.000000  \n",
      "std                 1.503557              0.491480         0.818448  \n",
      "min                 0.765100              4.519000         1.000000  \n",
      "25%                 2.561500              5.045000         1.000000  \n",
      "50%                 3.599000              5.223000         2.000000  \n",
      "75%                 4.768750              5.877000         3.000000  \n",
      "max                 8.456000              6.550000         3.000000  \n"
     ]
    }
   ],
   "source": [
    "print(df.describe())"
   ]
  },
  {
   "cell_type": "markdown",
   "metadata": {},
   "source": [
    "k 3 5 7 \n",
    "1 : 75% test = 25%\n",
    "2 : 2/3 test = 1/3\n",
    "3 : 50% test = 50%\n"
   ]
  },
  {
   "cell_type": "code",
   "execution_count": 64,
   "metadata": {},
   "outputs": [],
   "source": [
    "#Function for task : a different k with original data.\n",
    "#byt namn på det sen\n",
    "def task_a1(k_value, x_train, y_train, x_test,  y_test):\n",
    "    k = k_value\n",
    "    knn = KNeighborsClassifier(n_neighbors=k)\n",
    "\n",
    "    print(\"df shape: {}\\ny_train shape: {}\".format(x_train.shape, y_train.shape))\n",
    "    knn.fit(x_train,y_train)\n",
    "\n",
    "    #creating a prediction array for the test set.\n",
    "    y_predict = knn.predict(x_test)\n",
    "\n",
    "    #creating confusion_matrix and printing out the value\n",
    "    confusion_matrix = pd.crosstab(y_test, y_predict, rownames=['Actual'], colnames=['Predicted'])\n",
    "    print(\"\\nCONFUSION MATRIX:\\n\",confusion_matrix)    \n",
    "\n",
    "    # based on the training dataset, our model predicts the following for the test set:\n",
    "    pd.concat([x_test, y_test, pd.Series(y_predict, name='Predicted', index=x_test.index)], \n",
    "          ignore_index=False, axis=1)\n",
    "\n",
    "    #Accuracy value of the test.\n",
    "    print(\"\\nACCURACY: {:.2f}\".format(knn.score(x_train, y_train)))\n",
    "    print(f'Using  K = {k}')"
   ]
  },
  {
   "cell_type": "code",
   "execution_count": 65,
   "metadata": {},
   "outputs": [],
   "source": [
    "def task_a2(k_value, train_value, test_value, use_data):\n",
    "\n",
    "    #Split data into training and test sets\n",
    "    #Tried with random state 42, but that makes the differnce small\n",
    "    X_train, X_test, Y_train, Y_test = train_test_split(use_data[['area', 'perimeter','compactness',\n",
    "        'length_kernel','width_kernel','asymmetry_coefficient','length_kernel_groove']],\n",
    "         use_data['wheat_varieties'], random_state=100, test_size=test_value, train_size= train_value)\n",
    "\n",
    "    # see how data has been split\n",
    "    print(\"X_train shape: {}\\ny_train shape: {}\".format(X_train.shape, Y_train.shape))\n",
    "    print(\"X_test shape: {}\\ny_test shape: {}\".format(X_test.shape, Y_test.shape))\n",
    "\n",
    "    #show training data\n",
    "    #print('\\nshow training data\\n',X_train,y_train)\n",
    "    #print trains\n",
    "    #print('\\n',X_train, y_train)\n",
    "\n",
    "    print('\\ntask1 function:')\n",
    "    task_a1(k_value=k_value, x_train=X_train, y_train = Y_train, x_test= X_test, y_test = Y_test)\n",
    "                                                        "
   ]
  },
  {
   "cell_type": "markdown",
   "metadata": {},
   "source": [
    "## train=⅔ , test=⅓"
   ]
  },
  {
   "cell_type": "markdown",
   "metadata": {},
   "source": [
    "## train=⅔ , test=⅓"
   ]
  },
  {
   "cell_type": "markdown",
   "metadata": {},
   "source": [
    "## Task a: Original Data\n",
    "## train=75%, test=25%"
   ]
  },
  {
   "cell_type": "code",
   "execution_count": 66,
   "metadata": {},
   "outputs": [],
   "source": [
    "original_data = df"
   ]
  },
  {
   "cell_type": "markdown",
   "metadata": {},
   "source": [
    "## train=75%, test=25%\n",
    "\n",
    "## K = 3"
   ]
  },
  {
   "cell_type": "code",
   "execution_count": 67,
   "metadata": {},
   "outputs": [
    {
     "name": "stdout",
     "output_type": "stream",
     "text": [
      "X_train shape: (157, 7)\n",
      "y_train shape: (157,)\n",
      "X_test shape: (53, 7)\n",
      "y_test shape: (53,)\n",
      "\n",
      "task1 function:\n",
      "df shape: (157, 7)\n",
      "y_train shape: (157,)\n",
      "\n",
      "CONFUSION MATRIX:\n",
      " Predicted   1   2   3\n",
      "Actual               \n",
      "1          10   1   1\n",
      "2           1  17   0\n",
      "3           0   0  23\n",
      "\n",
      "ACCURACY: 0.96\n",
      "Using  K = 3\n"
     ]
    }
   ],
   "source": [
    "task_a2(k_value= 3, train_value= 0.75, test_value= 0.25, use_data= original_data)"
   ]
  },
  {
   "cell_type": "markdown",
   "metadata": {},
   "source": [
    "## K = 5"
   ]
  },
  {
   "cell_type": "code",
   "execution_count": 68,
   "metadata": {},
   "outputs": [
    {
     "name": "stdout",
     "output_type": "stream",
     "text": [
      "X_train shape: (157, 7)\n",
      "y_train shape: (157,)\n",
      "X_test shape: (53, 7)\n",
      "y_test shape: (53,)\n",
      "\n",
      "task1 function:\n",
      "df shape: (157, 7)\n",
      "y_train shape: (157,)\n",
      "\n",
      "CONFUSION MATRIX:\n",
      " Predicted   1   2   3\n",
      "Actual               \n",
      "1          11   0   1\n",
      "2           1  17   0\n",
      "3           0   0  23\n",
      "\n",
      "ACCURACY: 0.92\n",
      "Using  K = 5\n"
     ]
    }
   ],
   "source": [
    "task_a2(k_value= 5, train_value= 0.75, test_value= 0.25, use_data= original_data)"
   ]
  },
  {
   "cell_type": "markdown",
   "metadata": {},
   "source": [
    "## K = 7"
   ]
  },
  {
   "cell_type": "code",
   "execution_count": 69,
   "metadata": {},
   "outputs": [
    {
     "name": "stdout",
     "output_type": "stream",
     "text": [
      "X_train shape: (157, 7)\n",
      "y_train shape: (157,)\n",
      "X_test shape: (53, 7)\n",
      "y_test shape: (53,)\n",
      "\n",
      "task1 function:\n",
      "df shape: (157, 7)\n",
      "y_train shape: (157,)\n",
      "\n",
      "CONFUSION MATRIX:\n",
      " Predicted   1   2   3\n",
      "Actual               \n",
      "1          12   0   0\n",
      "2           0  18   0\n",
      "3           1   0  22\n",
      "\n",
      "ACCURACY: 0.90\n",
      "Using  K = 7\n"
     ]
    }
   ],
   "source": [
    "task_a2(k_value= 7, train_value= 0.75, test_value= 0.25, use_data= original_data)"
   ]
  },
  {
   "cell_type": "markdown",
   "metadata": {},
   "source": [
    "## train=⅔ , test=⅓"
   ]
  },
  {
   "cell_type": "markdown",
   "metadata": {},
   "source": [
    "## K = 3"
   ]
  },
  {
   "cell_type": "code",
   "execution_count": 70,
   "metadata": {},
   "outputs": [
    {
     "name": "stdout",
     "output_type": "stream",
     "text": [
      "X_train shape: (138, 7)\n",
      "y_train shape: (138,)\n",
      "X_test shape: (70, 7)\n",
      "y_test shape: (70,)\n",
      "\n",
      "task1 function:\n",
      "df shape: (138, 7)\n",
      "y_train shape: (138,)\n",
      "\n",
      "CONFUSION MATRIX:\n",
      " Predicted   1   2   3\n",
      "Actual               \n",
      "1          14   1   3\n",
      "2           1  23   0\n",
      "3           0   0  28\n",
      "\n",
      "ACCURACY: 0.96\n",
      "Using  K = 3\n"
     ]
    }
   ],
   "source": [
    "task_a2(k_value= 3, train_value= 0.66, test_value= 0.33, use_data= original_data)"
   ]
  },
  {
   "cell_type": "markdown",
   "metadata": {},
   "source": [
    "## K = 5"
   ]
  },
  {
   "cell_type": "code",
   "execution_count": 71,
   "metadata": {},
   "outputs": [
    {
     "name": "stdout",
     "output_type": "stream",
     "text": [
      "X_train shape: (138, 7)\n",
      "y_train shape: (138,)\n",
      "X_test shape: (70, 7)\n",
      "y_test shape: (70,)\n",
      "\n",
      "task1 function:\n",
      "df shape: (138, 7)\n",
      "y_train shape: (138,)\n",
      "\n",
      "CONFUSION MATRIX:\n",
      " Predicted   1   2   3\n",
      "Actual               \n",
      "1          16   0   2\n",
      "2           1  23   0\n",
      "3           0   0  28\n",
      "\n",
      "ACCURACY: 0.90\n",
      "Using  K = 5\n"
     ]
    }
   ],
   "source": [
    "task_a2(k_value= 5, train_value= 0.66, test_value= 0.33, use_data= original_data)"
   ]
  },
  {
   "cell_type": "markdown",
   "metadata": {},
   "source": [
    "## K = 7"
   ]
  },
  {
   "cell_type": "code",
   "execution_count": 72,
   "metadata": {},
   "outputs": [
    {
     "name": "stdout",
     "output_type": "stream",
     "text": [
      "X_train shape: (138, 7)\n",
      "y_train shape: (138,)\n",
      "X_test shape: (70, 7)\n",
      "y_test shape: (70,)\n",
      "\n",
      "task1 function:\n",
      "df shape: (138, 7)\n",
      "y_train shape: (138,)\n",
      "\n",
      "CONFUSION MATRIX:\n",
      " Predicted   1   2   3\n",
      "Actual               \n",
      "1          16   0   2\n",
      "2           0  24   0\n",
      "3           1   0  27\n",
      "\n",
      "ACCURACY: 0.88\n",
      "Using  K = 7\n"
     ]
    }
   ],
   "source": [
    "task_a2(k_value= 7, train_value= 0.66, test_value= 0.33, use_data= original_data)"
   ]
  },
  {
   "cell_type": "markdown",
   "metadata": {},
   "source": [
    "## train=50%, test=50%"
   ]
  },
  {
   "cell_type": "markdown",
   "metadata": {},
   "source": [
    "## K = 3"
   ]
  },
  {
   "cell_type": "code",
   "execution_count": 73,
   "metadata": {},
   "outputs": [
    {
     "name": "stdout",
     "output_type": "stream",
     "text": [
      "X_train shape: (105, 7)\n",
      "y_train shape: (105,)\n",
      "X_test shape: (105, 7)\n",
      "y_test shape: (105,)\n",
      "\n",
      "task1 function:\n",
      "df shape: (105, 7)\n",
      "y_train shape: (105,)\n",
      "\n",
      "CONFUSION MATRIX:\n",
      " Predicted   1   2   3\n",
      "Actual               \n",
      "1          21   3   4\n",
      "2           0  35   0\n",
      "3           1   0  41\n",
      "\n",
      "ACCURACY: 0.95\n",
      "Using  K = 3\n"
     ]
    }
   ],
   "source": [
    "task_a2(k_value= 3, train_value= 0.5, test_value= 0.5, use_data= original_data)"
   ]
  },
  {
   "cell_type": "markdown",
   "metadata": {},
   "source": [
    "## K = 5"
   ]
  },
  {
   "cell_type": "code",
   "execution_count": 74,
   "metadata": {},
   "outputs": [
    {
     "name": "stdout",
     "output_type": "stream",
     "text": [
      "X_train shape: (105, 7)\n",
      "y_train shape: (105,)\n",
      "X_test shape: (105, 7)\n",
      "y_test shape: (105,)\n",
      "\n",
      "task1 function:\n",
      "df shape: (105, 7)\n",
      "y_train shape: (105,)\n",
      "\n",
      "CONFUSION MATRIX:\n",
      " Predicted   1   2   3\n",
      "Actual               \n",
      "1          23   2   3\n",
      "2           1  34   0\n",
      "3           1   0  41\n",
      "\n",
      "ACCURACY: 0.88\n",
      "Using  K = 5\n"
     ]
    }
   ],
   "source": [
    "task_a2(k_value= 5, train_value= 0.5, test_value= 0.5, use_data= original_data)"
   ]
  },
  {
   "cell_type": "markdown",
   "metadata": {},
   "source": [
    "## K = 7"
   ]
  },
  {
   "cell_type": "code",
   "execution_count": 75,
   "metadata": {},
   "outputs": [
    {
     "name": "stdout",
     "output_type": "stream",
     "text": [
      "X_train shape: (105, 7)\n",
      "y_train shape: (105,)\n",
      "X_test shape: (105, 7)\n",
      "y_test shape: (105,)\n",
      "\n",
      "task1 function:\n",
      "df shape: (105, 7)\n",
      "y_train shape: (105,)\n",
      "\n",
      "CONFUSION MATRIX:\n",
      " Predicted   1   2   3\n",
      "Actual               \n",
      "1          23   2   3\n",
      "2           0  35   0\n",
      "3           1   0  41\n",
      "\n",
      "ACCURACY: 0.88\n",
      "Using  K = 7\n"
     ]
    }
   ],
   "source": [
    "task_a2(k_value= 7, train_value= 0.5, test_value= 0.5, use_data= original_data)"
   ]
  },
  {
   "cell_type": "markdown",
   "metadata": {},
   "source": [
    "## Task a: Normalized Data"
   ]
  },
  {
   "cell_type": "code",
   "execution_count": 76,
   "metadata": {},
   "outputs": [],
   "source": [
    "# #https://stackoverflow.com/questions/26414913/normalize-columns-of-pandas-data-frame\n",
    "# from sklearn import preprocessing\n",
    "# x = df.values #returns a numpy array\n",
    "# min_max_scaler = preprocessing.MinMaxScaler()\n",
    "# x_scaled = min_max_scaler.fit_transform(x)\n",
    "# norm_df = pd.DataFrame(x_scaled)\n",
    "# print(norm_df)"
   ]
  },
  {
   "cell_type": "code",
   "execution_count": 77,
   "metadata": {},
   "outputs": [],
   "source": [
    "cols_to_norm = ['area', 'perimeter','compactness','length_kernel','width_kernel','asymmetry_coefficient','length_kernel_groove']\n",
    "df[cols_to_norm] = df[cols_to_norm].apply(lambda x: (x - x.min()) / (x.max() - x.min()))\n",
    "norm_df = df"
   ]
  },
  {
   "cell_type": "markdown",
   "metadata": {},
   "source": [
    "## train=75%, test=25%\n",
    "## K = 3"
   ]
  },
  {
   "cell_type": "code",
   "execution_count": 78,
   "metadata": {},
   "outputs": [
    {
     "name": "stdout",
     "output_type": "stream",
     "text": [
      "X_train shape: (157, 7)\n",
      "y_train shape: (157,)\n",
      "X_test shape: (53, 7)\n",
      "y_test shape: (53,)\n",
      "\n",
      "task1 function:\n",
      "df shape: (157, 7)\n",
      "y_train shape: (157,)\n",
      "\n",
      "CONFUSION MATRIX:\n",
      " Predicted   1   2   3\n",
      "Actual               \n",
      "1          11   0   1\n",
      "2           0  18   0\n",
      "3           1   0  22\n",
      "\n",
      "ACCURACY: 0.96\n",
      "Using  K = 3\n"
     ]
    }
   ],
   "source": [
    "task_a2(k_value= 3, train_value= 0.75, test_value= 0.25, use_data= norm_df)"
   ]
  },
  {
   "cell_type": "markdown",
   "metadata": {},
   "source": [
    "## K = 5"
   ]
  },
  {
   "cell_type": "code",
   "execution_count": 79,
   "metadata": {},
   "outputs": [
    {
     "name": "stdout",
     "output_type": "stream",
     "text": [
      "X_train shape: (157, 7)\n",
      "y_train shape: (157,)\n",
      "X_test shape: (53, 7)\n",
      "y_test shape: (53,)\n",
      "\n",
      "task1 function:\n",
      "df shape: (157, 7)\n",
      "y_train shape: (157,)\n",
      "\n",
      "CONFUSION MATRIX:\n",
      " Predicted   1   2   3\n",
      "Actual               \n",
      "1          12   0   0\n",
      "2           0  18   0\n",
      "3           1   0  22\n",
      "\n",
      "ACCURACY: 0.94\n",
      "Using  K = 5\n"
     ]
    }
   ],
   "source": [
    "task_a2(k_value= 5, train_value= 0.75, test_value= 0.25, use_data= norm_df)"
   ]
  },
  {
   "cell_type": "markdown",
   "metadata": {},
   "source": [
    "## K = 7"
   ]
  },
  {
   "cell_type": "code",
   "execution_count": 80,
   "metadata": {},
   "outputs": [
    {
     "name": "stdout",
     "output_type": "stream",
     "text": [
      "X_train shape: (157, 7)\n",
      "y_train shape: (157,)\n",
      "X_test shape: (53, 7)\n",
      "y_test shape: (53,)\n",
      "\n",
      "task1 function:\n",
      "df shape: (157, 7)\n",
      "y_train shape: (157,)\n",
      "\n",
      "CONFUSION MATRIX:\n",
      " Predicted   1   2   3\n",
      "Actual               \n",
      "1          12   0   0\n",
      "2           0  18   0\n",
      "3           1   0  22\n",
      "\n",
      "ACCURACY: 0.92\n",
      "Using  K = 7\n"
     ]
    }
   ],
   "source": [
    "task_a2(k_value= 7, train_value= 0.75, test_value= 0.25, use_data= norm_df)"
   ]
  },
  {
   "cell_type": "markdown",
   "metadata": {},
   "source": [
    "## train=⅔ , test=⅓\n",
    "## K = 3"
   ]
  },
  {
   "cell_type": "code",
   "execution_count": 81,
   "metadata": {},
   "outputs": [
    {
     "name": "stdout",
     "output_type": "stream",
     "text": [
      "X_train shape: (138, 7)\n",
      "y_train shape: (138,)\n",
      "X_test shape: (70, 7)\n",
      "y_test shape: (70,)\n",
      "\n",
      "task1 function:\n",
      "df shape: (138, 7)\n",
      "y_train shape: (138,)\n",
      "\n",
      "CONFUSION MATRIX:\n",
      " Predicted   1   2   3\n",
      "Actual               \n",
      "1          16   0   2\n",
      "2           0  24   0\n",
      "3           1   0  27\n",
      "\n",
      "ACCURACY: 0.95\n",
      "Using  K = 3\n"
     ]
    }
   ],
   "source": [
    "task_a2(k_value= 3, train_value= 0.66, test_value= 0.33, use_data= norm_df)"
   ]
  },
  {
   "cell_type": "markdown",
   "metadata": {},
   "source": [
    "## K = 5"
   ]
  },
  {
   "cell_type": "code",
   "execution_count": 82,
   "metadata": {},
   "outputs": [
    {
     "name": "stdout",
     "output_type": "stream",
     "text": [
      "X_train shape: (138, 7)\n",
      "y_train shape: (138,)\n",
      "X_test shape: (70, 7)\n",
      "y_test shape: (70,)\n",
      "\n",
      "task1 function:\n",
      "df shape: (138, 7)\n",
      "y_train shape: (138,)\n",
      "\n",
      "CONFUSION MATRIX:\n",
      " Predicted   1   2   3\n",
      "Actual               \n",
      "1          17   0   1\n",
      "2           0  24   0\n",
      "3           1   0  27\n",
      "\n",
      "ACCURACY: 0.93\n",
      "Using  K = 5\n"
     ]
    }
   ],
   "source": [
    "task_a2(k_value= 5, train_value= 0.66, test_value= 0.33, use_data= norm_df)"
   ]
  },
  {
   "cell_type": "markdown",
   "metadata": {},
   "source": [
    "## K = 7"
   ]
  },
  {
   "cell_type": "code",
   "execution_count": 83,
   "metadata": {},
   "outputs": [
    {
     "name": "stdout",
     "output_type": "stream",
     "text": [
      "X_train shape: (138, 7)\n",
      "y_train shape: (138,)\n",
      "X_test shape: (70, 7)\n",
      "y_test shape: (70,)\n",
      "\n",
      "task1 function:\n",
      "df shape: (138, 7)\n",
      "y_train shape: (138,)\n",
      "\n",
      "CONFUSION MATRIX:\n",
      " Predicted   1   2   3\n",
      "Actual               \n",
      "1          17   0   1\n",
      "2           0  24   0\n",
      "3           1   0  27\n",
      "\n",
      "ACCURACY: 0.94\n",
      "Using  K = 7\n"
     ]
    }
   ],
   "source": [
    "task_a2(k_value= 7, train_value= 0.66, test_value= 0.33, use_data= norm_df)"
   ]
  },
  {
   "cell_type": "markdown",
   "metadata": {},
   "source": [
    "## train=50%, test=50%\n",
    "## K = 3"
   ]
  },
  {
   "cell_type": "code",
   "execution_count": 84,
   "metadata": {},
   "outputs": [
    {
     "name": "stdout",
     "output_type": "stream",
     "text": [
      "X_train shape: (105, 7)\n",
      "y_train shape: (105,)\n",
      "X_test shape: (105, 7)\n",
      "y_test shape: (105,)\n",
      "\n",
      "task1 function:\n",
      "df shape: (105, 7)\n",
      "y_train shape: (105,)\n",
      "\n",
      "CONFUSION MATRIX:\n",
      " Predicted   1   2   3\n",
      "Actual               \n",
      "1          24   1   3\n",
      "2           1  34   0\n",
      "3           3   0  39\n",
      "\n",
      "ACCURACY: 0.94\n",
      "Using  K = 3\n"
     ]
    }
   ],
   "source": [
    "task_a2(k_value= 3, train_value= 0.5, test_value= 0.5, use_data= norm_df)"
   ]
  },
  {
   "cell_type": "markdown",
   "metadata": {},
   "source": [
    "## K = 5"
   ]
  },
  {
   "cell_type": "code",
   "execution_count": 85,
   "metadata": {},
   "outputs": [
    {
     "name": "stdout",
     "output_type": "stream",
     "text": [
      "X_train shape: (105, 7)\n",
      "y_train shape: (105,)\n",
      "X_test shape: (105, 7)\n",
      "y_test shape: (105,)\n",
      "\n",
      "task1 function:\n",
      "df shape: (105, 7)\n",
      "y_train shape: (105,)\n",
      "\n",
      "CONFUSION MATRIX:\n",
      " Predicted   1   2   3\n",
      "Actual               \n",
      "1          25   1   2\n",
      "2           1  34   0\n",
      "3           2   0  40\n",
      "\n",
      "ACCURACY: 0.94\n",
      "Using  K = 5\n"
     ]
    }
   ],
   "source": [
    "task_a2(k_value= 5, train_value= 0.5, test_value= 0.5, use_data= norm_df)"
   ]
  },
  {
   "cell_type": "markdown",
   "metadata": {},
   "source": [
    "## K = 7"
   ]
  },
  {
   "cell_type": "code",
   "execution_count": 86,
   "metadata": {},
   "outputs": [
    {
     "name": "stdout",
     "output_type": "stream",
     "text": [
      "X_train shape: (105, 7)\n",
      "y_train shape: (105,)\n",
      "X_test shape: (105, 7)\n",
      "y_test shape: (105,)\n",
      "\n",
      "task1 function:\n",
      "df shape: (105, 7)\n",
      "y_train shape: (105,)\n",
      "\n",
      "CONFUSION MATRIX:\n",
      " Predicted   1   2   3\n",
      "Actual               \n",
      "1          25   1   2\n",
      "2           1  34   0\n",
      "3           2   0  40\n",
      "\n",
      "ACCURACY: 0.93\n",
      "Using  K = 7\n"
     ]
    }
   ],
   "source": [
    "task_a2(k_value= 7, train_value= 0.5, test_value= 0.5, use_data= norm_df)"
   ]
  }
 ],
 "metadata": {
  "interpreter": {
   "hash": "50f6d2a62cba7b4a04446430090b226dedeaa4907ec121cb2dd7ff424b4ef9c0"
  },
  "kernelspec": {
   "display_name": "Python 3.10.0 64-bit",
   "language": "python",
   "name": "python3"
  },
  "language_info": {
   "codemirror_mode": {
    "name": "ipython",
    "version": 3
   },
   "file_extension": ".py",
   "mimetype": "text/x-python",
   "name": "python",
   "nbconvert_exporter": "python",
   "pygments_lexer": "ipython3",
   "version": "3.10.0"
  },
  "orig_nbformat": 4
 },
 "nbformat": 4,
 "nbformat_minor": 2
}
