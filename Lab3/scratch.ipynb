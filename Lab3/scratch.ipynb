{
 "cells": [
  {
   "cell_type": "code",
   "execution_count": 1,
   "metadata": {},
   "outputs": [],
   "source": [
    "#imports\n",
    "import pandas as pd\n",
    "import seaborn as sns\n",
    "import matplotlib.pyplot as plt\n",
    "import numpy as np\n",
    "from sklearn.model_selection import train_test_split\n",
    "from sklearn.neighbors import KNeighborsClassifier\n",
    "from sklearn.preprocessing import normalize"
   ]
  },
  {
   "cell_type": "code",
   "execution_count": 2,
   "metadata": {},
   "outputs": [],
   "source": [
    "# #reading the text file and prepare it for use in further tasks.\n",
    "\n",
    "# txt_path = 'data/seeds_dataset_ver2.txt'\n",
    "\n",
    "# area = [] #area A\n",
    "# perimeter = [] #perimeter P\n",
    "# compactness = [] #compactness C = 4*pi*A/P^2\n",
    "# length_kernel = [] #length of kernel\n",
    "# width_kernel = [] #width of kernel\n",
    "# asymmetry_coefficient = [] #asymmetry coefficient\n",
    "# length_kernel_grove = [] #length of kernel groove\n",
    "# wheat_varieties = [] #different varieties of wheat : Kama, Rosa and Candian.\n",
    "# seeds = []\n",
    "\n",
    "# #opens the txt file and read it\n",
    "# with open(txt_path) as file:\n",
    "#     lines = file.readlines()\n",
    "        \n",
    "#     for i in range(len(lines)):\n",
    "#         seeds.append(lines[i].rstrip('\\n').split('\\t'))\n",
    "\n",
    "#     # for line in seeds:\n",
    "#     #     print(line)\n",
    "        \n",
    "# #appending data into \"seeds\"        \n",
    "# for i in seeds:\n",
    "#     area.append(i[0])\n",
    "#     perimeter.append(i[1])\n",
    "#     compactness.append(i[2])\n",
    "#     length_kernel.append(i[3])\n",
    "#     width_kernel.append(i[4])\n",
    "#     asymmetry_coefficient.append(i[5])\n",
    "#     length_kernel_grove.append(i[6])\n",
    "#     wheat_varieties.append(i[7])\n",
    "\n",
    "# # for i in area:\n",
    "# #     #print(i)\n",
    "\n",
    "# data_df = pd.DataFrame(list(zip(area,perimeter,compactness,length_kernel,width_kernel,asymmetry_coefficient,length_kernel_grove,wheat_varieties)), columns=['area', 'perimeter', 'compactness','length_kernel','width_kernel', 'asymmetry_coefficient','length_kernel_groove','wheat_varieties'])\n",
    "# print(data_df)"
   ]
  },
  {
   "cell_type": "code",
   "execution_count": 3,
   "metadata": {},
   "outputs": [],
   "source": [
    "# data_df = pd.DataFrame(list(zip(area,perimeter,compactness,length_kernel,width_kernel,asymmetry_coefficient,length_kernel_grove,wheat_varieties)), columns=['area', 'perimeter', 'compactness','length_kernel','width_kernel', 'asymmetry_coefficient','length_kernel_groove','wheat_varieties'])\n",
    "# print(data_df)"
   ]
  },
  {
   "cell_type": "code",
   "execution_count": 4,
   "metadata": {},
   "outputs": [],
   "source": [
    "# data_df.describe()\n",
    "# data_df.wheat_varieties.unique()"
   ]
  },
  {
   "cell_type": "markdown",
   "metadata": {},
   "source": []
  },
  {
   "cell_type": "code",
   "execution_count": 5,
   "metadata": {},
   "outputs": [
    {
     "name": "stdout",
     "output_type": "stream",
     "text": [
      "      area  perimeter  compactness  length_kernel  width_kernel  \\\n",
      "0    15.26      14.84       0.8710          5.763         3.312   \n",
      "1    14.88      14.57       0.8811          5.554         3.333   \n",
      "2    14.29      14.09       0.9050          5.291         3.337   \n",
      "3    13.84      13.94       0.8955          5.324         3.379   \n",
      "4    16.14      14.99       0.9034          5.658         3.562   \n",
      "..     ...        ...          ...            ...           ...   \n",
      "205  12.19      13.20       0.8783          5.137         2.981   \n",
      "206  11.23      12.88       0.8511          5.140         2.795   \n",
      "207  13.20      13.66       0.8883          5.236         3.232   \n",
      "208  11.84      13.21       0.8521          5.175         2.836   \n",
      "209  12.30      13.34       0.8684          5.243         2.974   \n",
      "\n",
      "     asymmetry_coefficient  length_kernel_groove  wheat_varieties  \n",
      "0                    2.221                 5.220                1  \n",
      "1                    1.018                 4.956                1  \n",
      "2                    2.699                 4.825                1  \n",
      "3                    2.259                 4.805                1  \n",
      "4                    1.355                 5.175                1  \n",
      "..                     ...                   ...              ...  \n",
      "205                  3.631                 4.870                3  \n",
      "206                  4.325                 5.003                3  \n",
      "207                  8.315                 5.056                3  \n",
      "208                  3.598                 5.044                3  \n",
      "209                  5.637                 5.063                3  \n",
      "\n",
      "[210 rows x 8 columns]\n",
      "0\n",
      "0\n"
     ]
    },
    {
     "data": {
      "text/html": [
       "<div>\n",
       "<style scoped>\n",
       "    .dataframe tbody tr th:only-of-type {\n",
       "        vertical-align: middle;\n",
       "    }\n",
       "\n",
       "    .dataframe tbody tr th {\n",
       "        vertical-align: top;\n",
       "    }\n",
       "\n",
       "    .dataframe thead th {\n",
       "        text-align: right;\n",
       "    }\n",
       "</style>\n",
       "<table border=\"1\" class=\"dataframe\">\n",
       "  <thead>\n",
       "    <tr style=\"text-align: right;\">\n",
       "      <th></th>\n",
       "      <th>area</th>\n",
       "      <th>perimeter</th>\n",
       "      <th>compactness</th>\n",
       "      <th>length_kernel</th>\n",
       "      <th>width_kernel</th>\n",
       "      <th>asymmetry_coefficient</th>\n",
       "      <th>length_kernel_groove</th>\n",
       "      <th>wheat_varieties</th>\n",
       "    </tr>\n",
       "  </thead>\n",
       "  <tbody>\n",
       "  </tbody>\n",
       "</table>\n",
       "</div>"
      ],
      "text/plain": [
       "Empty DataFrame\n",
       "Columns: [area, perimeter, compactness, length_kernel, width_kernel, asymmetry_coefficient, length_kernel_groove, wheat_varieties]\n",
       "Index: []"
      ]
     },
     "execution_count": 5,
     "metadata": {},
     "output_type": "execute_result"
    }
   ],
   "source": [
    "#making a dataframe from the txt file. \n",
    "#Original seeds data was wrong format so we had to fix it, which gives us seeds_ver2\n",
    "df = pd.read_table('data/seeds_dataset_ver2.txt', delimiter=\"\\t\", names=('area', 'perimeter', 'compactness','length_kernel','width_kernel', 'asymmetry_coefficient','length_kernel_groove','wheat_varieties'))\n",
    "#print(df['wheat_varieties'].astype(int))\n",
    "#checking for null\n",
    "print(df)\n",
    "print(df['wheat_varieties'].isnull().sum())\n",
    "print(df['wheat_varieties'].isna().sum())\n",
    "df[df.isnull().any(axis=1)]"
   ]
  },
  {
   "cell_type": "code",
   "execution_count": 6,
   "metadata": {},
   "outputs": [
    {
     "name": "stdout",
     "output_type": "stream",
     "text": [
      "             area   perimeter  compactness  length_kernel  width_kernel  \\\n",
      "count  210.000000  210.000000   210.000000     210.000000    210.000000   \n",
      "mean    14.847524   14.559286     0.870999       5.628533      3.258605   \n",
      "std      2.909699    1.305959     0.023629       0.443063      0.377714   \n",
      "min     10.590000   12.410000     0.808100       4.899000      2.630000   \n",
      "25%     12.270000   13.450000     0.856900       5.262250      2.944000   \n",
      "50%     14.355000   14.320000     0.873450       5.523500      3.237000   \n",
      "75%     17.305000   15.715000     0.887775       5.979750      3.561750   \n",
      "max     21.180000   17.250000     0.918300       6.675000      4.033000   \n",
      "\n",
      "       asymmetry_coefficient  length_kernel_groove  wheat_varieties  \n",
      "count             210.000000            210.000000       210.000000  \n",
      "mean                3.700201              5.408071         2.000000  \n",
      "std                 1.503557              0.491480         0.818448  \n",
      "min                 0.765100              4.519000         1.000000  \n",
      "25%                 2.561500              5.045000         1.000000  \n",
      "50%                 3.599000              5.223000         2.000000  \n",
      "75%                 4.768750              5.877000         3.000000  \n",
      "max                 8.456000              6.550000         3.000000  \n"
     ]
    }
   ],
   "source": [
    "print(df.describe())"
   ]
  },
  {
   "cell_type": "code",
   "execution_count": 7,
   "metadata": {},
   "outputs": [
    {
     "name": "stdout",
     "output_type": "stream",
     "text": [
      "      area  perimeter  compactness  length_kernel  width_kernel  \\\n",
      "0    15.26      14.84       0.8710          5.763         3.312   \n",
      "1    14.88      14.57       0.8811          5.554         3.333   \n",
      "2    14.29      14.09       0.9050          5.291         3.337   \n",
      "3    13.84      13.94       0.8955          5.324         3.379   \n",
      "4    16.14      14.99       0.9034          5.658         3.562   \n",
      "..     ...        ...          ...            ...           ...   \n",
      "205  12.19      13.20       0.8783          5.137         2.981   \n",
      "206  11.23      12.88       0.8511          5.140         2.795   \n",
      "207  13.20      13.66       0.8883          5.236         3.232   \n",
      "208  11.84      13.21       0.8521          5.175         2.836   \n",
      "209  12.30      13.34       0.8684          5.243         2.974   \n",
      "\n",
      "     asymmetry_coefficient  length_kernel_groove  wheat_varieties  \n",
      "0                    2.221                 5.220                1  \n",
      "1                    1.018                 4.956                1  \n",
      "2                    2.699                 4.825                1  \n",
      "3                    2.259                 4.805                1  \n",
      "4                    1.355                 5.175                1  \n",
      "..                     ...                   ...              ...  \n",
      "205                  3.631                 4.870                3  \n",
      "206                  4.325                 5.003                3  \n",
      "207                  8.315                 5.056                3  \n",
      "208                  3.598                 5.044                3  \n",
      "209                  5.637                 5.063                3  \n",
      "\n",
      "[210 rows x 8 columns]\n"
     ]
    }
   ],
   "source": [
    "norm_df = normalize(df)\n",
    "print(df)"
   ]
  },
  {
   "cell_type": "code",
   "execution_count": 8,
   "metadata": {},
   "outputs": [],
   "source": [
    "#sns.pairplot(df,hue='wheat_varieties')"
   ]
  },
  {
   "cell_type": "code",
   "execution_count": 9,
   "metadata": {},
   "outputs": [],
   "source": [
    "X_train, X_test, y_train, y_test = train_test_split(df[['area', 'perimeter', \n",
    "                                                        'compactness', 'length_kernel','width_kernel',\n",
    "                                                        'asymmetry_coefficient','length_kernel_groove']],\n",
    "                                                    df['wheat_varieties'], random_state=42, test_size=0.75)"
   ]
  },
  {
   "cell_type": "code",
   "execution_count": 10,
   "metadata": {},
   "outputs": [
    {
     "name": "stdout",
     "output_type": "stream",
     "text": [
      "X_train shape: (52, 7)\n",
      "y_train shape: (52,)\n",
      "X_test shape: (158, 7)\n",
      "y_test shape: (158,)\n"
     ]
    }
   ],
   "source": [
    "# see how data has been split\n",
    "print(\"X_train shape: {}\\ny_train shape: {}\".format(X_train.shape, y_train.shape))\n",
    "print(\"X_test shape: {}\\ny_test shape: {}\".format(X_test.shape, y_test.shape))"
   ]
  },
  {
   "cell_type": "code",
   "execution_count": 11,
   "metadata": {},
   "outputs": [
    {
     "name": "stdout",
     "output_type": "stream",
     "text": [
      "      area  perimeter  compactness  length_kernel  width_kernel  \\\n",
      "191  11.27      12.86       0.8563          5.091         2.804   \n",
      "89   20.88      17.05       0.9031          6.450         4.032   \n",
      "8    16.63      15.46       0.8747          6.053         3.465   \n",
      "13   13.78      14.06       0.8759          5.479         3.156   \n",
      "59   12.11      13.47       0.8392          5.159         3.032   \n",
      "181  12.46      13.41       0.8706          5.236         3.017   \n",
      "131  18.94      16.32       0.8942          6.144         3.825   \n",
      "17   15.69      14.75       0.9058          5.527         3.514   \n",
      "166  12.44      13.59       0.8462          5.319         2.897   \n",
      "72   17.26      15.73       0.8763          5.978         3.594   \n",
      "185  11.56      13.31       0.8198          5.363         2.683   \n",
      "134  15.56      14.89       0.8823          5.776         3.408   \n",
      "175  10.80      12.57       0.8590          4.981         2.821   \n",
      "193  10.82      12.83       0.8256          5.180         2.630   \n",
      "63   13.22      13.84       0.8680          5.395         3.070   \n",
      "54   14.52      14.60       0.8557          5.741         3.113   \n",
      "107  17.63      15.86       0.8800          6.033         3.573   \n",
      "50   14.43      14.40       0.8751          5.585         3.272   \n",
      "174  10.83      12.96       0.8099          5.278         2.641   \n",
      "206  11.23      12.88       0.8511          5.140         2.795   \n",
      "169  11.24      13.00       0.8359          5.090         2.715   \n",
      "58   15.38      14.77       0.8857          5.662         3.419   \n",
      "48   14.79      14.52       0.8819          5.545         3.291   \n",
      "88   21.18      17.21       0.8989          6.573         4.033   \n",
      "21   14.11      14.26       0.8722          5.520         3.168   \n",
      "57   14.92      14.43       0.9006          5.384         3.412   \n",
      "160  12.54      13.67       0.8425          5.451         2.879   \n",
      "202  11.18      12.72       0.8680          5.009         2.810   \n",
      "129  17.55      15.66       0.8991          5.791         3.690   \n",
      "37   17.08      15.38       0.9079          5.832         3.683   \n",
      "157  12.13      13.73       0.8081          5.394         2.745   \n",
      "198  12.62      13.67       0.8481          5.410         2.911   \n",
      "1    14.88      14.57       0.8811          5.554         3.333   \n",
      "52   14.49      14.61       0.8538          5.715         3.113   \n",
      "149  10.79      12.93       0.8107          5.317         2.648   \n",
      "130  18.30      15.89       0.9108          5.979         3.755   \n",
      "151  12.01      13.52       0.8249          5.405         2.776   \n",
      "103  19.18      16.63       0.8717          6.369         3.681   \n",
      "99   18.72      16.34       0.8810          6.219         3.684   \n",
      "116  18.96      16.20       0.9077          6.051         3.897   \n",
      "87   18.98      16.66       0.8590          6.549         3.670   \n",
      "74   16.82      15.51       0.8786          6.017         3.486   \n",
      "121  18.14      16.12       0.8772          6.059         3.563   \n",
      "209  12.30      13.34       0.8684          5.243         2.974   \n",
      "20   14.16      14.40       0.8584          5.658         3.129   \n",
      "188  11.23      12.82       0.8594          5.089         2.821   \n",
      "71   16.84      15.67       0.8623          5.998         3.484   \n",
      "106  18.85      16.17       0.9056          6.152         3.806   \n",
      "14   13.74      14.05       0.8744          5.482         3.114   \n",
      "92   18.81      16.29       0.8906          6.272         3.693   \n",
      "179  12.21      13.47       0.8453          5.357         2.893   \n",
      "102  19.46      16.50       0.8985          6.113         3.892   \n",
      "\n",
      "     asymmetry_coefficient  length_kernel_groove  \n",
      "191                  3.985                 5.001  \n",
      "89                   5.016                 6.321  \n",
      "8                    2.040                 5.877  \n",
      "13                   3.136                 4.872  \n",
      "59                   1.502                 4.519  \n",
      "181                  4.987                 5.147  \n",
      "131                  2.908                 5.949  \n",
      "17                   1.599                 5.046  \n",
      "166                  4.924                 5.270  \n",
      "72                   4.539                 5.791  \n",
      "185                  4.062                 5.182  \n",
      "134                  4.972                 5.847  \n",
      "175                  4.773                 5.063  \n",
      "193                  4.853                 5.089  \n",
      "63                   4.157                 5.088  \n",
      "54                   1.481                 5.487  \n",
      "107                  3.747                 5.929  \n",
      "50                   3.975                 5.144  \n",
      "174                  5.182                 5.185  \n",
      "206                  4.325                 5.003  \n",
      "169                  3.521                 5.088  \n",
      "58                   1.999                 5.222  \n",
      "48                   2.704                 5.111  \n",
      "88                   5.780                 6.231  \n",
      "21                   2.688                 5.219  \n",
      "57                   1.142                 5.088  \n",
      "160                  3.082                 5.491  \n",
      "202                  4.051                 4.828  \n",
      "129                  5.366                 5.661  \n",
      "37                   2.956                 5.484  \n",
      "157                  4.825                 5.220  \n",
      "198                  3.306                 5.231  \n",
      "1                    1.018                 4.956  \n",
      "52                   4.116                 5.396  \n",
      "149                  5.462                 5.194  \n",
      "130                  2.837                 5.962  \n",
      "151                  6.992                 5.270  \n",
      "103                  3.357                 6.229  \n",
      "99                   2.188                 6.097  \n",
      "116                  4.334                 5.750  \n",
      "87                   3.691                 6.498  \n",
      "74                   4.004                 5.841  \n",
      "121                  3.619                 6.011  \n",
      "209                  5.637                 5.063  \n",
      "20                   3.072                 5.176  \n",
      "188                  7.524                 4.957  \n",
      "71                   4.675                 5.877  \n",
      "106                  2.843                 6.200  \n",
      "14                   2.932                 4.825  \n",
      "92                   3.237                 6.053  \n",
      "179                  1.661                 5.178  \n",
      "102                  4.308                 6.009   191    3\n",
      "89     2\n",
      "8      1\n",
      "13     1\n",
      "59     1\n",
      "181    3\n",
      "131    2\n",
      "17     1\n",
      "166    3\n",
      "72     2\n",
      "185    3\n",
      "134    2\n",
      "175    3\n",
      "193    3\n",
      "63     1\n",
      "54     1\n",
      "107    2\n",
      "50     1\n",
      "174    3\n",
      "206    3\n",
      "169    3\n",
      "58     1\n",
      "48     1\n",
      "88     2\n",
      "21     1\n",
      "57     1\n",
      "160    3\n",
      "202    3\n",
      "129    2\n",
      "37     1\n",
      "157    3\n",
      "198    3\n",
      "1      1\n",
      "52     1\n",
      "149    3\n",
      "130    2\n",
      "151    3\n",
      "103    2\n",
      "99     2\n",
      "116    2\n",
      "87     2\n",
      "74     2\n",
      "121    2\n",
      "209    3\n",
      "20     1\n",
      "188    3\n",
      "71     2\n",
      "106    2\n",
      "14     1\n",
      "92     2\n",
      "179    3\n",
      "102    2\n",
      "Name: wheat_varieties, dtype: int64\n"
     ]
    }
   ],
   "source": [
    "print(X_train, y_train)\n"
   ]
  },
  {
   "cell_type": "code",
   "execution_count": 12,
   "metadata": {},
   "outputs": [],
   "source": [
    "# initialize the Estimator object\n",
    "k = 7\n",
    "knn = KNeighborsClassifier(n_neighbors=k)"
   ]
  },
  {
   "cell_type": "code",
   "execution_count": 13,
   "metadata": {},
   "outputs": [
    {
     "data": {
      "text/plain": [
       "KNeighborsClassifier(n_neighbors=7)"
      ]
     },
     "execution_count": 13,
     "metadata": {},
     "output_type": "execute_result"
    }
   ],
   "source": [
    "# fit the model to training set in order to predict classes\n",
    "knn.fit(X_train, y_train)"
   ]
  },
  {
   "cell_type": "code",
   "execution_count": 14,
   "metadata": {},
   "outputs": [
    {
     "data": {
      "text/plain": [
       "KNeighborsClassifier(n_neighbors=7)"
      ]
     },
     "execution_count": 14,
     "metadata": {},
     "output_type": "execute_result"
    }
   ],
   "source": [
    "# fit the model to training set in order to predict classes\n",
    "knn.fit(X_train, y_train)"
   ]
  },
  {
   "cell_type": "code",
   "execution_count": 15,
   "metadata": {},
   "outputs": [
    {
     "name": "stdout",
     "output_type": "stream",
     "text": [
      "[1 3 2 1 3 3 1 3 1 3 2 3 3 2 1 2 3 1 3 2 2 1 3 2 2 3 1 2 3 3 3 3 2 1 2 1 3\n",
      " 2 2 3 3 3 3 2 3 1 3 2 2 1 1 3 2 1 3 1 2 1 1 1 3 1 2 2 2 3 3 1 1 1 1 1 2 2\n",
      " 3 2 2 3 2 1 3 2 1 1 3 3 2 1 2 1 2 2 2 2 3 1 2 3 1 1 2 1 1 3 3 1 1 3 1 3 1\n",
      " 1 2 3 2 3 2 1 3 1 3 3 1 3 3 2 3 1 1 1 1 2 3 3 3 2 3 3 1 2 3 2 3 1 2 1 2 3\n",
      " 3 3 1 2 1 1 2 2 2 3]\n"
     ]
    }
   ],
   "source": [
    "# create a prediction array for our test set\n",
    "y_pred = knn.predict(X_test)\n",
    "print(y_pred)\n",
    "#df['Species']"
   ]
  },
  {
   "cell_type": "code",
   "execution_count": 16,
   "metadata": {},
   "outputs": [
    {
     "name": "stdout",
     "output_type": "stream",
     "text": [
      "Predicted   1   2   3\n",
      "Actual               \n",
      "1          44   2   8\n",
      "2           5  47   0\n",
      "3           3   0  49\n"
     ]
    }
   ],
   "source": [
    "#confusion_matrix = pd.crosstab(df['y_Actual'], df['y_Predicted'], rownames=['Actual'], colnames=['Predicted'])\n",
    "confusion_matrix = pd.crosstab(y_test, y_pred, rownames=['Actual'], colnames=['Predicted'])\n",
    "\n",
    "print (confusion_matrix)"
   ]
  },
  {
   "cell_type": "code",
   "execution_count": 17,
   "metadata": {},
   "outputs": [
    {
     "data": {
      "text/html": [
       "<div>\n",
       "<style scoped>\n",
       "    .dataframe tbody tr th:only-of-type {\n",
       "        vertical-align: middle;\n",
       "    }\n",
       "\n",
       "    .dataframe tbody tr th {\n",
       "        vertical-align: top;\n",
       "    }\n",
       "\n",
       "    .dataframe thead th {\n",
       "        text-align: right;\n",
       "    }\n",
       "</style>\n",
       "<table border=\"1\" class=\"dataframe\">\n",
       "  <thead>\n",
       "    <tr style=\"text-align: right;\">\n",
       "      <th></th>\n",
       "      <th>area</th>\n",
       "      <th>perimeter</th>\n",
       "      <th>compactness</th>\n",
       "      <th>length_kernel</th>\n",
       "      <th>width_kernel</th>\n",
       "      <th>asymmetry_coefficient</th>\n",
       "      <th>length_kernel_groove</th>\n",
       "      <th>wheat_varieties</th>\n",
       "      <th>Predicted</th>\n",
       "    </tr>\n",
       "  </thead>\n",
       "  <tbody>\n",
       "    <tr>\n",
       "      <th>30</th>\n",
       "      <td>13.16</td>\n",
       "      <td>13.82</td>\n",
       "      <td>0.8662</td>\n",
       "      <td>5.454</td>\n",
       "      <td>2.975</td>\n",
       "      <td>0.8551</td>\n",
       "      <td>5.056</td>\n",
       "      <td>1</td>\n",
       "      <td>1</td>\n",
       "    </tr>\n",
       "    <tr>\n",
       "      <th>172</th>\n",
       "      <td>11.27</td>\n",
       "      <td>12.97</td>\n",
       "      <td>0.8419</td>\n",
       "      <td>5.088</td>\n",
       "      <td>2.763</td>\n",
       "      <td>4.3090</td>\n",
       "      <td>5.000</td>\n",
       "      <td>3</td>\n",
       "      <td>3</td>\n",
       "    </tr>\n",
       "    <tr>\n",
       "      <th>84</th>\n",
       "      <td>19.51</td>\n",
       "      <td>16.71</td>\n",
       "      <td>0.8780</td>\n",
       "      <td>6.366</td>\n",
       "      <td>3.801</td>\n",
       "      <td>2.9620</td>\n",
       "      <td>6.185</td>\n",
       "      <td>2</td>\n",
       "      <td>2</td>\n",
       "    </tr>\n",
       "    <tr>\n",
       "      <th>199</th>\n",
       "      <td>12.76</td>\n",
       "      <td>13.38</td>\n",
       "      <td>0.8964</td>\n",
       "      <td>5.073</td>\n",
       "      <td>3.155</td>\n",
       "      <td>2.8280</td>\n",
       "      <td>4.830</td>\n",
       "      <td>3</td>\n",
       "      <td>1</td>\n",
       "    </tr>\n",
       "    <tr>\n",
       "      <th>60</th>\n",
       "      <td>11.42</td>\n",
       "      <td>12.86</td>\n",
       "      <td>0.8683</td>\n",
       "      <td>5.008</td>\n",
       "      <td>2.850</td>\n",
       "      <td>2.7000</td>\n",
       "      <td>4.607</td>\n",
       "      <td>1</td>\n",
       "      <td>3</td>\n",
       "    </tr>\n",
       "    <tr>\n",
       "      <th>...</th>\n",
       "      <td>...</td>\n",
       "      <td>...</td>\n",
       "      <td>...</td>\n",
       "      <td>...</td>\n",
       "      <td>...</td>\n",
       "      <td>...</td>\n",
       "      <td>...</td>\n",
       "      <td>...</td>\n",
       "      <td>...</td>\n",
       "    </tr>\n",
       "    <tr>\n",
       "      <th>7</th>\n",
       "      <td>14.11</td>\n",
       "      <td>14.10</td>\n",
       "      <td>0.8911</td>\n",
       "      <td>5.420</td>\n",
       "      <td>3.302</td>\n",
       "      <td>2.7000</td>\n",
       "      <td>5.000</td>\n",
       "      <td>1</td>\n",
       "      <td>1</td>\n",
       "    </tr>\n",
       "    <tr>\n",
       "      <th>110</th>\n",
       "      <td>18.45</td>\n",
       "      <td>16.12</td>\n",
       "      <td>0.8921</td>\n",
       "      <td>6.107</td>\n",
       "      <td>3.769</td>\n",
       "      <td>2.2350</td>\n",
       "      <td>5.794</td>\n",
       "      <td>2</td>\n",
       "      <td>2</td>\n",
       "    </tr>\n",
       "    <tr>\n",
       "      <th>91</th>\n",
       "      <td>18.76</td>\n",
       "      <td>16.20</td>\n",
       "      <td>0.8984</td>\n",
       "      <td>6.172</td>\n",
       "      <td>3.796</td>\n",
       "      <td>3.1200</td>\n",
       "      <td>6.053</td>\n",
       "      <td>2</td>\n",
       "      <td>2</td>\n",
       "    </tr>\n",
       "    <tr>\n",
       "      <th>83</th>\n",
       "      <td>19.57</td>\n",
       "      <td>16.74</td>\n",
       "      <td>0.8779</td>\n",
       "      <td>6.384</td>\n",
       "      <td>3.772</td>\n",
       "      <td>1.4720</td>\n",
       "      <td>6.273</td>\n",
       "      <td>2</td>\n",
       "      <td>2</td>\n",
       "    </tr>\n",
       "    <tr>\n",
       "      <th>186</th>\n",
       "      <td>11.81</td>\n",
       "      <td>13.45</td>\n",
       "      <td>0.8198</td>\n",
       "      <td>5.413</td>\n",
       "      <td>2.716</td>\n",
       "      <td>4.8980</td>\n",
       "      <td>5.352</td>\n",
       "      <td>3</td>\n",
       "      <td>3</td>\n",
       "    </tr>\n",
       "  </tbody>\n",
       "</table>\n",
       "<p>158 rows × 9 columns</p>\n",
       "</div>"
      ],
      "text/plain": [
       "      area  perimeter  compactness  length_kernel  width_kernel  \\\n",
       "30   13.16      13.82       0.8662          5.454         2.975   \n",
       "172  11.27      12.97       0.8419          5.088         2.763   \n",
       "84   19.51      16.71       0.8780          6.366         3.801   \n",
       "199  12.76      13.38       0.8964          5.073         3.155   \n",
       "60   11.42      12.86       0.8683          5.008         2.850   \n",
       "..     ...        ...          ...            ...           ...   \n",
       "7    14.11      14.10       0.8911          5.420         3.302   \n",
       "110  18.45      16.12       0.8921          6.107         3.769   \n",
       "91   18.76      16.20       0.8984          6.172         3.796   \n",
       "83   19.57      16.74       0.8779          6.384         3.772   \n",
       "186  11.81      13.45       0.8198          5.413         2.716   \n",
       "\n",
       "     asymmetry_coefficient  length_kernel_groove  wheat_varieties  Predicted  \n",
       "30                  0.8551                 5.056                1          1  \n",
       "172                 4.3090                 5.000                3          3  \n",
       "84                  2.9620                 6.185                2          2  \n",
       "199                 2.8280                 4.830                3          1  \n",
       "60                  2.7000                 4.607                1          3  \n",
       "..                     ...                   ...              ...        ...  \n",
       "7                   2.7000                 5.000                1          1  \n",
       "110                 2.2350                 5.794                2          2  \n",
       "91                  3.1200                 6.053                2          2  \n",
       "83                  1.4720                 6.273                2          2  \n",
       "186                 4.8980                 5.352                3          3  \n",
       "\n",
       "[158 rows x 9 columns]"
      ]
     },
     "execution_count": 17,
     "metadata": {},
     "output_type": "execute_result"
    }
   ],
   "source": [
    "# based on the training dataset, our model predicts the following for the test set:\n",
    "pd.concat([X_test, y_test, pd.Series(y_pred, name='Predicted', index=X_test.index)], \n",
    "          ignore_index=False, axis=1)"
   ]
  },
  {
   "cell_type": "code",
   "execution_count": 18,
   "metadata": {},
   "outputs": [
    {
     "name": "stdout",
     "output_type": "stream",
     "text": [
      "Test set accuracy: 0.89\n",
      "k: 7\n"
     ]
    }
   ],
   "source": [
    "#  Compute the ACCURACY measurement of this model \n",
    "print(\"Test set accuracy: {:.2f}\".format(knn.score(X_test, y_test)))\n",
    "print(f\"k: {k}\")\n",
    "# 7 = 79\n",
    "# 3 = 79\n",
    "# 5 = 76"
   ]
  }
 ],
 "metadata": {
  "interpreter": {
   "hash": "50f6d2a62cba7b4a04446430090b226dedeaa4907ec121cb2dd7ff424b4ef9c0"
  },
  "kernelspec": {
   "display_name": "Python 3.10.0 64-bit",
   "language": "python",
   "name": "python3"
  },
  "language_info": {
   "codemirror_mode": {
    "name": "ipython",
    "version": 3
   },
   "file_extension": ".py",
   "mimetype": "text/x-python",
   "name": "python",
   "nbconvert_exporter": "python",
   "pygments_lexer": "ipython3",
   "version": "3.10.0"
  },
  "orig_nbformat": 4
 },
 "nbformat": 4,
 "nbformat_minor": 2
}
